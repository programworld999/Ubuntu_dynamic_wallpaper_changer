{
 "cells": [
  {
   "cell_type": "code",
   "execution_count": 164,
   "metadata": {},
   "outputs": [],
   "source": [
    "import os\n",
    "import requests\n",
    "from bs4 import BeautifulSoup\n",
    "import urllib.request as DFU\n",
    "import time"
   ]
  },
  {
   "cell_type": "code",
   "execution_count": 165,
   "metadata": {},
   "outputs": [],
   "source": [
    "def getScraped(url):\n",
    "    data=requests.get(url)\n",
    "    soup = BeautifulSoup(data.text, 'html.parser')\n",
    "    return soup"
   ]
  },
  {
   "cell_type": "code",
   "execution_count": 166,
   "metadata": {},
   "outputs": [],
   "source": [
    "def getCatalogs(data):\n",
    "    catalogs = data.find_all('ul', class_='filters__list')\n",
    "    catalogs = catalogs[0]\n",
    "    catalogs = catalogs.find_all('li')\n",
    "    i=0\n",
    "    for i in range(0, len(catalogs)):\n",
    "        link=catalogs[i].find('a')['href']\n",
    "        link=\"https://wallpaperscraft.com\"+link\n",
    "        catalogs[i]=link\n",
    "    for i in range(0, len(catalogs)):\n",
    "        name = catalogs[i].replace('https://wallpaperscraft.com/catalog/', '')\n",
    "        link = catalogs[i]\n",
    "        catalogs[i] = {'id': (i+1), 'name': name, 'link': link}\n",
    "    return catalogs"
   ]
  },
  {
   "cell_type": "code",
   "execution_count": 167,
   "metadata": {},
   "outputs": [],
   "source": [
    "def totalImages(catalog):\n",
    "    data = getScraped(catalog['link'])\n",
    "    count=data.find_all('a', class_=\"pager__link\")\n",
    "    count = count[len(count)-1]['href']\n",
    "    count = count.replace('/catalog/'+catalog['name']+'/page', '')\n",
    "    count = int(count)*15\n",
    "    return count"
   ]
  },
  {
   "cell_type": "code",
   "execution_count": 168,
   "metadata": {},
   "outputs": [],
   "source": [
    "def getWallpapersSrc(catalog):\n",
    "    data = getScraped(catalog['link'])\n",
    "    wallpapers=data.find_all('img', class_=\"wallpapers__image\")\n",
    "    for i in range(0, len(wallpapers)):\n",
    "        src=wallpapers[i]['src']\n",
    "        src=src.replace('300x168', '1280x720')\n",
    "        wallpapers[i]=src\n",
    "    return wallpapers"
   ]
  },
  {
   "cell_type": "code",
   "execution_count": 169,
   "metadata": {},
   "outputs": [],
   "source": [
    "def downloadWallpaper(url, name):\n",
    "    print('Processing.........')\n",
    "    DFU.urlretrieve(url, './wallpaper/.wallpaper_'+str(name)+'.jpg')"
   ]
  },
  {
   "cell_type": "code",
   "execution_count": 170,
   "metadata": {},
   "outputs": [],
   "source": [
    "def StartDynamicWallpaper():\n",
    "    for i in range(0, 5):\n",
    "        os.system('cp ./wallpaper/.wallpaper_'+str(i)+'.jpg ./wallpaper/.wallpaper/')\n",
    "        os.system('mv ./wallpaper/.wallpaper/.wallpaper_'+str(i)+'.jpg ./wallpaper/.wallpaper/.wallpaper.jpg')\n",
    "        os.system('cp ./wallpaper/.wallpaper/.wallpaper.jpg /home/sk/Pictures/Wallpapers')\n",
    "        time.sleep(4)\n",
    "    StartDynamicWallpaper()"
   ]
  },
  {
   "cell_type": "code",
   "execution_count": 171,
   "metadata": {
    "scrolled": true
   },
   "outputs": [],
   "source": [
    "url = \"https://wallpaperscraft.com/\"\n",
    "data = getScraped(url)\n",
    "catalogs = getCatalogs(data)"
   ]
  },
  {
   "cell_type": "code",
   "execution_count": 172,
   "metadata": {},
   "outputs": [
    {
     "name": "stdout",
     "output_type": "stream",
     "text": [
      "1. 3d\n",
      "2. 60_favorites\n",
      "3. abstract\n",
      "4. animals\n",
      "5. anime\n",
      "6. art\n",
      "7. black\n",
      "8. cars\n",
      "9. city\n",
      "10. dark\n",
      "11. fantasy\n",
      "12. flowers\n",
      "13. food\n",
      "14. holidays\n",
      "15. love\n",
      "16. macro\n",
      "17. minimalism\n",
      "18. motorcycles\n",
      "19. music\n",
      "20. nature\n",
      "21. other\n",
      "22. smilies\n",
      "23. space\n",
      "24. sport\n",
      "25. hi-tech\n",
      "26. textures\n",
      "27. vector\n",
      "28. words\n",
      "Select Catalogs: \n",
      "9\n",
      "Processing.........\n",
      "Processing.........\n",
      "Processing.........\n",
      "Processing.........\n",
      "Processing.........\n"
     ]
    },
    {
     "ename": "KeyboardInterrupt",
     "evalue": "",
     "output_type": "error",
     "traceback": [
      "\u001b[0;31m---------------------------------------------------------------------------\u001b[0m",
      "\u001b[0;31mKeyboardInterrupt\u001b[0m                         Traceback (most recent call last)",
      "\u001b[0;32m<ipython-input-172-b4fbec0082c1>\u001b[0m in \u001b[0;36m<module>\u001b[0;34m\u001b[0m\n\u001b[1;32m     10\u001b[0m \u001b[0;32mfor\u001b[0m \u001b[0mi\u001b[0m \u001b[0;32min\u001b[0m \u001b[0mrange\u001b[0m\u001b[0;34m(\u001b[0m\u001b[0;36m10\u001b[0m\u001b[0;34m,\u001b[0m\u001b[0mlen\u001b[0m\u001b[0;34m(\u001b[0m\u001b[0mwallpapers\u001b[0m\u001b[0;34m)\u001b[0m\u001b[0;34m)\u001b[0m\u001b[0;34m:\u001b[0m\u001b[0;34m\u001b[0m\u001b[0;34m\u001b[0m\u001b[0m\n\u001b[1;32m     11\u001b[0m     \u001b[0mdownloadWallpaper\u001b[0m\u001b[0;34m(\u001b[0m\u001b[0mwallpapers\u001b[0m\u001b[0;34m[\u001b[0m\u001b[0mi\u001b[0m\u001b[0;34m]\u001b[0m\u001b[0;34m,\u001b[0m \u001b[0;34m(\u001b[0m\u001b[0mi\u001b[0m\u001b[0;34m-\u001b[0m\u001b[0;36m10\u001b[0m\u001b[0;34m)\u001b[0m\u001b[0;34m)\u001b[0m\u001b[0;34m\u001b[0m\u001b[0;34m\u001b[0m\u001b[0m\n\u001b[0;32m---> 12\u001b[0;31m \u001b[0mStartDynamicWallpaper\u001b[0m\u001b[0;34m(\u001b[0m\u001b[0;34m)\u001b[0m\u001b[0;34m\u001b[0m\u001b[0;34m\u001b[0m\u001b[0m\n\u001b[0m",
      "\u001b[0;32m<ipython-input-170-b46dbfd704ff>\u001b[0m in \u001b[0;36mStartDynamicWallpaper\u001b[0;34m()\u001b[0m\n\u001b[1;32m      5\u001b[0m         \u001b[0mos\u001b[0m\u001b[0;34m.\u001b[0m\u001b[0msystem\u001b[0m\u001b[0;34m(\u001b[0m\u001b[0;34m'cp ./wallpaper/.wallpaper/.wallpaper.jpg /home/sk/Pictures/Wallpapers'\u001b[0m\u001b[0;34m)\u001b[0m\u001b[0;34m\u001b[0m\u001b[0;34m\u001b[0m\u001b[0m\n\u001b[1;32m      6\u001b[0m         \u001b[0mtime\u001b[0m\u001b[0;34m.\u001b[0m\u001b[0msleep\u001b[0m\u001b[0;34m(\u001b[0m\u001b[0;36m4\u001b[0m\u001b[0;34m)\u001b[0m\u001b[0;34m\u001b[0m\u001b[0;34m\u001b[0m\u001b[0m\n\u001b[0;32m----> 7\u001b[0;31m     \u001b[0mStartDynamicWallpaper\u001b[0m\u001b[0;34m(\u001b[0m\u001b[0;34m)\u001b[0m\u001b[0;34m\u001b[0m\u001b[0;34m\u001b[0m\u001b[0m\n\u001b[0m",
      "\u001b[0;32m<ipython-input-170-b46dbfd704ff>\u001b[0m in \u001b[0;36mStartDynamicWallpaper\u001b[0;34m()\u001b[0m\n\u001b[1;32m      5\u001b[0m         \u001b[0mos\u001b[0m\u001b[0;34m.\u001b[0m\u001b[0msystem\u001b[0m\u001b[0;34m(\u001b[0m\u001b[0;34m'cp ./wallpaper/.wallpaper/.wallpaper.jpg /home/sk/Pictures/Wallpapers'\u001b[0m\u001b[0;34m)\u001b[0m\u001b[0;34m\u001b[0m\u001b[0;34m\u001b[0m\u001b[0m\n\u001b[1;32m      6\u001b[0m         \u001b[0mtime\u001b[0m\u001b[0;34m.\u001b[0m\u001b[0msleep\u001b[0m\u001b[0;34m(\u001b[0m\u001b[0;36m4\u001b[0m\u001b[0;34m)\u001b[0m\u001b[0;34m\u001b[0m\u001b[0;34m\u001b[0m\u001b[0m\n\u001b[0;32m----> 7\u001b[0;31m     \u001b[0mStartDynamicWallpaper\u001b[0m\u001b[0;34m(\u001b[0m\u001b[0;34m)\u001b[0m\u001b[0;34m\u001b[0m\u001b[0;34m\u001b[0m\u001b[0m\n\u001b[0m",
      "\u001b[0;32m<ipython-input-170-b46dbfd704ff>\u001b[0m in \u001b[0;36mStartDynamicWallpaper\u001b[0;34m()\u001b[0m\n\u001b[1;32m      5\u001b[0m         \u001b[0mos\u001b[0m\u001b[0;34m.\u001b[0m\u001b[0msystem\u001b[0m\u001b[0;34m(\u001b[0m\u001b[0;34m'cp ./wallpaper/.wallpaper/.wallpaper.jpg /home/sk/Pictures/Wallpapers'\u001b[0m\u001b[0;34m)\u001b[0m\u001b[0;34m\u001b[0m\u001b[0;34m\u001b[0m\u001b[0m\n\u001b[1;32m      6\u001b[0m         \u001b[0mtime\u001b[0m\u001b[0;34m.\u001b[0m\u001b[0msleep\u001b[0m\u001b[0;34m(\u001b[0m\u001b[0;36m4\u001b[0m\u001b[0;34m)\u001b[0m\u001b[0;34m\u001b[0m\u001b[0;34m\u001b[0m\u001b[0m\n\u001b[0;32m----> 7\u001b[0;31m     \u001b[0mStartDynamicWallpaper\u001b[0m\u001b[0;34m(\u001b[0m\u001b[0;34m)\u001b[0m\u001b[0;34m\u001b[0m\u001b[0;34m\u001b[0m\u001b[0m\n\u001b[0m",
      "\u001b[0;32m<ipython-input-170-b46dbfd704ff>\u001b[0m in \u001b[0;36mStartDynamicWallpaper\u001b[0;34m()\u001b[0m\n\u001b[1;32m      5\u001b[0m         \u001b[0mos\u001b[0m\u001b[0;34m.\u001b[0m\u001b[0msystem\u001b[0m\u001b[0;34m(\u001b[0m\u001b[0;34m'cp ./wallpaper/.wallpaper/.wallpaper.jpg /home/sk/Pictures/Wallpapers'\u001b[0m\u001b[0;34m)\u001b[0m\u001b[0;34m\u001b[0m\u001b[0;34m\u001b[0m\u001b[0m\n\u001b[1;32m      6\u001b[0m         \u001b[0mtime\u001b[0m\u001b[0;34m.\u001b[0m\u001b[0msleep\u001b[0m\u001b[0;34m(\u001b[0m\u001b[0;36m4\u001b[0m\u001b[0;34m)\u001b[0m\u001b[0;34m\u001b[0m\u001b[0;34m\u001b[0m\u001b[0m\n\u001b[0;32m----> 7\u001b[0;31m     \u001b[0mStartDynamicWallpaper\u001b[0m\u001b[0;34m(\u001b[0m\u001b[0;34m)\u001b[0m\u001b[0;34m\u001b[0m\u001b[0;34m\u001b[0m\u001b[0m\n\u001b[0m",
      "\u001b[0;32m<ipython-input-170-b46dbfd704ff>\u001b[0m in \u001b[0;36mStartDynamicWallpaper\u001b[0;34m()\u001b[0m\n\u001b[1;32m      4\u001b[0m         \u001b[0mos\u001b[0m\u001b[0;34m.\u001b[0m\u001b[0msystem\u001b[0m\u001b[0;34m(\u001b[0m\u001b[0;34m'mv ./wallpaper/.wallpaper/.wallpaper_'\u001b[0m\u001b[0;34m+\u001b[0m\u001b[0mstr\u001b[0m\u001b[0;34m(\u001b[0m\u001b[0mi\u001b[0m\u001b[0;34m)\u001b[0m\u001b[0;34m+\u001b[0m\u001b[0;34m'.jpg ./wallpaper/.wallpaper/.wallpaper.jpg'\u001b[0m\u001b[0;34m)\u001b[0m\u001b[0;34m\u001b[0m\u001b[0;34m\u001b[0m\u001b[0m\n\u001b[1;32m      5\u001b[0m         \u001b[0mos\u001b[0m\u001b[0;34m.\u001b[0m\u001b[0msystem\u001b[0m\u001b[0;34m(\u001b[0m\u001b[0;34m'cp ./wallpaper/.wallpaper/.wallpaper.jpg /home/sk/Pictures/Wallpapers'\u001b[0m\u001b[0;34m)\u001b[0m\u001b[0;34m\u001b[0m\u001b[0;34m\u001b[0m\u001b[0m\n\u001b[0;32m----> 6\u001b[0;31m         \u001b[0mtime\u001b[0m\u001b[0;34m.\u001b[0m\u001b[0msleep\u001b[0m\u001b[0;34m(\u001b[0m\u001b[0;36m4\u001b[0m\u001b[0;34m)\u001b[0m\u001b[0;34m\u001b[0m\u001b[0;34m\u001b[0m\u001b[0m\n\u001b[0m\u001b[1;32m      7\u001b[0m     \u001b[0mStartDynamicWallpaper\u001b[0m\u001b[0;34m(\u001b[0m\u001b[0;34m)\u001b[0m\u001b[0;34m\u001b[0m\u001b[0;34m\u001b[0m\u001b[0m\n",
      "\u001b[0;31mKeyboardInterrupt\u001b[0m: "
     ]
    }
   ],
   "source": [
    "for i in range(0, len(catalogs)):\n",
    "    print(str(catalogs[i]['id'])+\".\", catalogs[i]['name'])\n",
    "print(\"Select Catalogs: \")\n",
    "catalog = int(input())\n",
    "catalog = catalogs[(catalog-1)]\n",
    "catalog\n",
    "# print(\"Available Images : \", totalImages(catalog), \". How Many Do You Want To Use: \")\n",
    "# imagesUse = input()\n",
    "wallpapers = getWallpapersSrc(catalog)\n",
    "for i in range(10,len(wallpapers)):\n",
    "    downloadWallpaper(wallpapers[i], (i-10))\n",
    "StartDynamicWallpaper()"
   ]
  },
  {
   "cell_type": "code",
   "execution_count": null,
   "metadata": {},
   "outputs": [],
   "source": []
  }
 ],
 "metadata": {
  "kernelspec": {
   "display_name": "Python 3",
   "language": "python",
   "name": "python3"
  },
  "language_info": {
   "codemirror_mode": {
    "name": "ipython",
    "version": 3
   },
   "file_extension": ".py",
   "mimetype": "text/x-python",
   "name": "python",
   "nbconvert_exporter": "python",
   "pygments_lexer": "ipython3",
   "version": "3.6.8"
  }
 },
 "nbformat": 4,
 "nbformat_minor": 2
}
